{
  "cells": [
    {
      "cell_type": "raw",
      "metadata": {},
      "source": [
        "---\n",
        "title: \"My publications\"\n",
        "listing:\n",
        "  contents: publications\n",
        "  type: default\n",
        "  categories: false\n",
        "  sort-ui: false\n",
        "  filter-ui: false\n",
        "page-layout: full\n",
        "linestretch: 2\n",
        "title-block-banner: false\n",
        "bibliography: docs/publications.bib\n",
        "link-citations: true\n",
        "nocite: '@*'\n",
        "csl: docs/chicago-author-date.csl\n",
        "---"
      ],
      "id": "2d76e306"
    },
    {
      "cell_type": "markdown",
      "metadata": {},
      "source": [
        "```{css}\n",
        "d-title {\n",
        "    display: none;\n",
        "  }\n",
        "```"
      ],
      "id": "7f5ba16a"
    }
  ],
  "metadata": {
    "kernelspec": {
      "display_name": "Python 3",
      "language": "python",
      "name": "python3"
    }
  },
  "nbformat": 4,
  "nbformat_minor": 5
}